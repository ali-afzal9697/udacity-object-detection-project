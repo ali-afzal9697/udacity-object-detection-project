{
 "cells": [
  {
   "attachments": {},
   "cell_type": "markdown",
   "id": "a195dd47",
   "metadata": {},
   "source": [
    "# Deploy model and run inference"
   ]
  },
  {
   "cell_type": "code",
   "execution_count": 1,
   "id": "14b3785b",
   "metadata": {},
   "outputs": [],
   "source": [
    "import os\n",
    "import glob\n",
    "import cv2\n",
    "%matplotlib inline\n",
    "import matplotlib.pyplot as plt\n",
    "import visualization_utils as viz_utils\n",
    "import tensorflow as tf"
   ]
  },
  {
   "cell_type": "markdown",
   "id": "f8b2277c-740a-4df3-99b1-701a1051bf18",
   "metadata": {},
   "source": [
    "Since the models are trained on my personal account, I downloaded the trained models and do the interference on the local machine.\n"
   ]
  },
  {
   "cell_type": "code",
   "execution_count": 2,
   "id": "6b6ae306",
   "metadata": {},
   "outputs": [],
   "source": [
    "efficientdet_model_path = '../../models/efficientdet-d1-coco17-fine-tuned-model-1/1'\n",
    "faster_rcnn_model_path = '../../models/faster-rcnn-resnet152-v1-640x640-coco17-fine-tuned-model-1/1'\n",
    "ssd_resnet_path = '../../models/ssd-resnet50-v1-fpn-1024x1024-coco17-fine-tuned-model-1/1'"
   ]
  },
  {
   "cell_type": "code",
   "execution_count": 3,
   "id": "278f06aa-2e00-44ec-832c-207cc46a115b",
   "metadata": {},
   "outputs": [],
   "source": [
    "efficientdet_model = tf.saved_model.load(efficientdet_model_path)\n",
    "faster_rcnn_model = tf.saved_model.load(faster_rcnn_model_path)\n",
    "ssd_resnet_model = tf.saved_model.load(ssd_resnet_path)"
   ]
  },
  {
   "attachments": {},
   "cell_type": "markdown",
   "id": "d9f3d9cf",
   "metadata": {},
   "source": [
    "## Run inference"
   ]
  },
  {
   "attachments": {},
   "cell_type": "markdown",
   "id": "e8d2b7b4",
   "metadata": {},
   "source": [
    "Our model is now deployed and we can query it. We are going to use the images available in `data/test_video` to run inference and generate a video. To do so, we are going to need a few tools:\n",
    "* we need to sort all the frames by index order (which corresponds to chronological order)\n",
    "* we need a function to load images into numpy array\n",
    "* we need a loop to run inference and display the results on the input image"
   ]
  },
  {
   "attachments": {},
   "cell_type": "markdown",
   "id": "14e2d725",
   "metadata": {},
   "source": [
    "We list the frame paths and sort them by index."
   ]
  },
  {
   "cell_type": "code",
   "execution_count": 4,
   "id": "2656b900",
   "metadata": {},
   "outputs": [],
   "source": [
    "frames_path = sorted(glob.glob('../data/test_video/*.png'), \n",
    "                     key = lambda k: int(os.path.basename(k).split('.')[0].split('_')[1]))"
   ]
  },
  {
   "attachments": {},
   "cell_type": "markdown",
   "id": "ea4dd116",
   "metadata": {},
   "source": [
    "We create a small function to load images."
   ]
  },
  {
   "cell_type": "code",
   "execution_count": 5,
   "id": "56c4dc2c",
   "metadata": {},
   "outputs": [],
   "source": [
    "import numpy as np\n",
    "def load_image(path: str) -> np.ndarray:\n",
    "    \"\"\"Read an image from the path and returns a numpy array\"\"\"\n",
    "    cv_img = cv2.imread(path,1).astype('uint8')\n",
    "    cv_img = cv2.cvtColor(cv_img, cv2.COLOR_BGR2RGB)\n",
    "    return cv_img"
   ]
  },
  {
   "attachments": {},
   "cell_type": "markdown",
   "id": "9ca4a04f",
   "metadata": {},
   "source": [
    "We create a mapping from id to name for visualization purposes."
   ]
  },
  {
   "cell_type": "code",
   "execution_count": 6,
   "id": "1535d202",
   "metadata": {},
   "outputs": [],
   "source": [
    "category_index = {\n",
    "                    1: {'id': 1, 'name': 'vehicle'}, \n",
    "                    2: {'id': 2, 'name': 'pedestrian'},\n",
    "                    4: {'id': 4, 'name': 'cyclist'}\n",
    "                }"
   ]
  },
  {
   "attachments": {},
   "cell_type": "markdown",
   "id": "2d323e30",
   "metadata": {},
   "source": [
    "This is the main loop:\n",
    "* we load images to numpy\n",
    "* we query the deployed model\n",
    "* we display the inference results on the images"
   ]
  },
  {
   "cell_type": "code",
   "execution_count": 7,
   "id": "f290290d-9009-435f-af91-1c2cd76826cd",
   "metadata": {},
   "outputs": [
    {
     "name": "stdout",
     "output_type": "stream",
     "text": [
      "Processed 0/100 images.\n",
      "Processed 10/100 images.\n",
      "Processed 20/100 images.\n",
      "Processed 30/100 images.\n",
      "Processed 40/100 images.\n",
      "Processed 50/100 images.\n",
      "Processed 60/100 images.\n",
      "Processed 70/100 images.\n",
      "Processed 80/100 images.\n",
      "Processed 90/100 images.\n"
     ]
    }
   ],
   "source": [
    "def image_file_to_tensor(path):\n",
    "    cv_img = cv2.imread(path,1).astype('uint8')\n",
    "    cv_img = cv2.cvtColor(cv_img, cv2.COLOR_BGR2RGB)\n",
    "    return cv_img\n",
    "    \n",
    "images_efficientdet = []\n",
    "for idx, path in enumerate(frames_path):\n",
    "    if idx % 10 == 0:\n",
    "        print(f'Processed {idx}/{len(frames_path)} images.')\n",
    "        \n",
    "    # load image\n",
    "    img = image_file_to_tensor(path)\n",
    "    inputs = {'instances': [img.tolist()]}\n",
    "    reshaped_tensor = tf.reshape(img,(1,640,640,3))\n",
    "    result = efficientdet_model(reshaped_tensor)\n",
    "    detection_boxes = result['detection_boxes'].numpy().reshape(-1, 4)\n",
    "    detection_classes = result['detection_classes'].numpy().reshape(-1).astype(int)\n",
    "    detection_scores = result['detection_scores'].numpy().ravel()\n",
    "    # display results on image\n",
    "    image_np_with_detections = \\\n",
    "        viz_utils.visualize_boxes_and_labels_on_image_array(\n",
    "            img,\n",
    "            detection_boxes,\n",
    "            detection_classes,\n",
    "            detection_scores,\n",
    "            category_index,\n",
    "            use_normalized_coordinates=True,\n",
    "            max_boxes_to_draw=100,\n",
    "            min_score_thresh=0.6,\n",
    "            agnostic_mode=False)\n",
    "    images_efficientdet.append(image_np_with_detections)"
   ]
  },
  {
   "cell_type": "code",
   "execution_count": 16,
   "id": "4c6d1b78-330a-409c-a7c1-32d415a66717",
   "metadata": {},
   "outputs": [
    {
     "name": "stdout",
     "output_type": "stream",
     "text": [
      "Processed 0/100 images.\n",
      "Processed 10/100 images.\n",
      "Processed 20/100 images.\n",
      "Processed 30/100 images.\n",
      "Processed 40/100 images.\n",
      "Processed 50/100 images.\n",
      "Processed 60/100 images.\n",
      "Processed 70/100 images.\n",
      "Processed 80/100 images.\n",
      "Processed 90/100 images.\n"
     ]
    }
   ],
   "source": [
    "def image_file_to_tensor(path):\n",
    "    cv_img = cv2.imread(path,1).astype('uint8')\n",
    "    cv_img = cv2.cvtColor(cv_img, cv2.COLOR_BGR2RGB)\n",
    "    return cv_img\n",
    "    \n",
    "images_faster_rcnn = []\n",
    "for idx, path in enumerate(frames_path):\n",
    "    if idx % 10 == 0:\n",
    "        print(f'Processed {idx}/{len(frames_path)} images.')\n",
    "        \n",
    "    # load image\n",
    "    img = image_file_to_tensor(path)\n",
    "    inputs = {'instances': [img.tolist()]}\n",
    "    reshaped_tensor = tf.reshape(img,(1,640,640,3))\n",
    "    result = faster_rcnn_model(reshaped_tensor)\n",
    "    detection_boxes = result['detection_boxes'].numpy().reshape(-1, 4)\n",
    "    detection_classes = result['detection_classes'].numpy().reshape(-1).astype(int)\n",
    "    detection_scores = result['detection_scores'].numpy().ravel()\n",
    "    # display results on image\n",
    "    image_np_with_detections = \\\n",
    "        viz_utils.visualize_boxes_and_labels_on_image_array(\n",
    "            img,\n",
    "            detection_boxes,\n",
    "            detection_classes,\n",
    "            detection_scores,\n",
    "            category_index,\n",
    "            use_normalized_coordinates=True,\n",
    "            max_boxes_to_draw=100,\n",
    "            min_score_thresh=0.6,\n",
    "            agnostic_mode=False)\n",
    "    images_faster_rcnn.append(image_np_with_detections)"
   ]
  },
  {
   "cell_type": "code",
   "execution_count": 9,
   "id": "96c9da77-55a0-4e9f-9f7a-c2f6c8dc4182",
   "metadata": {},
   "outputs": [
    {
     "name": "stdout",
     "output_type": "stream",
     "text": [
      "Processed 0/100 images.\n",
      "Processed 10/100 images.\n",
      "Processed 20/100 images.\n",
      "Processed 30/100 images.\n",
      "Processed 40/100 images.\n",
      "Processed 50/100 images.\n",
      "Processed 60/100 images.\n",
      "Processed 70/100 images.\n",
      "Processed 80/100 images.\n",
      "Processed 90/100 images.\n"
     ]
    }
   ],
   "source": [
    "def image_file_to_tensor(path):\n",
    "    cv_img = cv2.imread(path,1).astype('uint8')\n",
    "    cv_img = cv2.cvtColor(cv_img, cv2.COLOR_BGR2RGB)\n",
    "    return cv_img\n",
    "    \n",
    "images_ssd_resnet = []\n",
    "for idx, path in enumerate(frames_path):\n",
    "    if idx % 10 == 0:\n",
    "        print(f'Processed {idx}/{len(frames_path)} images.')\n",
    "        \n",
    "    # load image\n",
    "    img = image_file_to_tensor(path)\n",
    "    inputs = {'instances': [img.tolist()]}\n",
    "    reshaped_tensor = tf.reshape(img,(1,640,640,3))\n",
    "    result = ssd_resnet_model(reshaped_tensor)\n",
    "    detection_boxes = result['detection_boxes'].numpy().reshape(-1, 4)\n",
    "    detection_classes = result['detection_classes'].numpy().reshape(-1).astype(int)\n",
    "    detection_scores = result['detection_scores'].numpy().ravel()\n",
    "    # display results on image\n",
    "    image_np_with_detections = \\\n",
    "        viz_utils.visualize_boxes_and_labels_on_image_array(\n",
    "            img,\n",
    "            detection_boxes,\n",
    "            detection_classes,\n",
    "            detection_scores,\n",
    "            category_index,\n",
    "            use_normalized_coordinates=True,\n",
    "            max_boxes_to_draw=100,\n",
    "            min_score_thresh=0.5,\n",
    "            agnostic_mode=False)\n",
    "    images_ssd_resnet.append(image_np_with_detections)"
   ]
  },
  {
   "cell_type": "code",
   "execution_count": 10,
   "id": "7b0fef64-1e90-4225-b7b9-0c08593871a8",
   "metadata": {},
   "outputs": [
    {
     "name": "stdout",
     "output_type": "stream",
     "text": [
      "(640, 640, 3)\n",
      "(300, 4)\n",
      "[9.95426595e-01 9.60321605e-01 9.02709424e-01 8.17579865e-01\n",
      " 7.93292344e-01 6.92095757e-01 3.08514625e-01 2.27201074e-01\n",
      " 2.14562401e-01 1.80795863e-01 1.72200412e-01 1.44587457e-01\n",
      " 1.09890148e-01 7.37636015e-02 7.07768425e-02 6.80900961e-02\n",
      " 4.57906611e-02 4.11713868e-02 3.54399942e-02 3.45046595e-02\n",
      " 3.14030312e-02 2.83752847e-02 2.78261397e-02 2.50570662e-02\n",
      " 2.44037919e-02 2.36758664e-02 2.33712178e-02 2.19492838e-02\n",
      " 1.62432678e-02 1.60880871e-02 1.56127177e-02 1.33585315e-02\n",
      " 1.29262051e-02 1.28587484e-02 1.16884876e-02 1.15012042e-02\n",
      " 1.13214208e-02 1.13075068e-02 9.90782771e-03 9.76958685e-03\n",
      " 9.35073663e-03 9.08306893e-03 8.48153699e-03 8.39796197e-03\n",
      " 7.92154856e-03 7.39846937e-03 7.13239331e-03 7.12500559e-03\n",
      " 6.86962856e-03 6.09234069e-03 5.99585427e-03 5.98348072e-03\n",
      " 5.66827226e-03 5.43400552e-03 4.87852143e-03 4.51403763e-03\n",
      " 4.18412127e-03 4.05209372e-03 3.95211298e-03 3.73267196e-03\n",
      " 3.65063292e-03 3.58703500e-03 3.51928012e-03 3.44834267e-03\n",
      " 3.36062023e-03 3.33022256e-03 3.29771219e-03 2.98856711e-03\n",
      " 2.96917348e-03 2.93963565e-03 2.90237041e-03 2.82635959e-03\n",
      " 2.81624100e-03 2.80410354e-03 2.73698173e-03 2.69538467e-03\n",
      " 2.68873177e-03 2.59117736e-03 2.57170969e-03 2.45525385e-03\n",
      " 2.45514023e-03 2.37461855e-03 2.30135419e-03 2.13766494e-03\n",
      " 2.04748916e-03 2.01869872e-03 1.99287501e-03 1.98136596e-03\n",
      " 1.87747995e-03 1.84622011e-03 1.83979073e-03 1.74072664e-03\n",
      " 1.69499253e-03 1.68424891e-03 1.63218076e-03 1.60109648e-03\n",
      " 1.55263243e-03 1.53798901e-03 1.43756310e-03 1.42668118e-03\n",
      " 1.35438517e-03 1.24166801e-03 1.23678125e-03 1.18435500e-03\n",
      " 1.17541838e-03 1.13820168e-03 1.10296090e-03 1.06915389e-03\n",
      " 1.06479251e-03 1.04047009e-03 1.01430225e-03 1.01140072e-03\n",
      " 9.90988570e-04 9.79590230e-04 9.53487877e-04 9.50078422e-04\n",
      " 9.30406735e-04 9.05522087e-04 8.99137231e-04 8.29264347e-04\n",
      " 7.87681900e-04 7.86248303e-04 7.82231451e-04 7.64531665e-04\n",
      " 7.63209537e-04 7.36820453e-04 7.26087834e-04 7.18654308e-04\n",
      " 7.18081137e-04 7.12484354e-04 6.98714692e-04 6.95541967e-04\n",
      " 6.91448688e-04 6.88715198e-04 6.76651427e-04 6.57280209e-04\n",
      " 6.55116804e-04 6.28434878e-04 6.19848201e-04 6.01942767e-04\n",
      " 5.91016375e-04 5.84619585e-04 5.69164287e-04 5.60095534e-04\n",
      " 5.59591572e-04 5.56886196e-04 5.34615829e-04 5.18781017e-04\n",
      " 5.11727179e-04 4.96927358e-04 4.95055225e-04 4.78950853e-04\n",
      " 4.78921545e-04 4.73722845e-04 4.71737701e-04 4.64862562e-04\n",
      " 4.40761010e-04 4.31037508e-04 4.08933003e-04 4.04439925e-04\n",
      " 3.95280891e-04 3.80680576e-04 3.62547464e-04 3.15433892e-04\n",
      " 2.99249921e-04 2.88099371e-04 2.87870440e-04 2.78497959e-04\n",
      " 2.74793274e-04 2.74018035e-04 2.55468622e-04 2.42800583e-04\n",
      " 2.30124686e-04 2.27660450e-04 2.24327872e-04 2.22545510e-04\n",
      " 2.20666130e-04 2.14047395e-04 2.03652162e-04 1.99067945e-04\n",
      " 1.96150198e-04 1.93713102e-04 1.89329759e-04 1.89158629e-04\n",
      " 1.88061298e-04 1.86266858e-04 1.79392067e-04 1.75923837e-04\n",
      " 1.74453467e-04 1.74291665e-04 1.67791935e-04 1.66935133e-04\n",
      " 1.65479069e-04 1.51349566e-04 1.49673317e-04 1.48535211e-04\n",
      " 1.38602147e-04 1.27267951e-04 1.27147388e-04 1.26643150e-04\n",
      " 1.24661979e-04 1.21655467e-04 1.21459394e-04 1.16053532e-04\n",
      " 1.12362919e-04 1.11201676e-04 1.04853738e-04 1.02633938e-04\n",
      " 1.00044512e-04 9.83164136e-05 9.78828393e-05 9.68614695e-05\n",
      " 9.38574958e-05 8.82690583e-05 8.15969615e-05 8.00542039e-05\n",
      " 7.99296613e-05 7.86805467e-05 7.80552509e-05 7.15766801e-05\n",
      " 7.08827793e-05 7.08638399e-05 6.77407297e-05 6.62237435e-05\n",
      " 6.38049823e-05 6.28515991e-05 6.15191821e-05 5.99502564e-05\n",
      " 5.98372753e-05 5.63016438e-05 5.43957030e-05 5.41829140e-05\n",
      " 5.25847390e-05 4.61575073e-05 4.47127968e-05 4.27777231e-05\n",
      " 3.32672607e-05 3.28718270e-05 3.02584649e-05 2.94734436e-05\n",
      " 2.83684458e-05 2.83025565e-05 2.56218118e-05 2.44778457e-05\n",
      " 2.38348130e-05 2.18707246e-05 2.17849174e-05 1.80541392e-05\n",
      " 1.70391522e-05 1.65378351e-05 1.64750363e-05 1.48074423e-05\n",
      " 1.40490229e-05 1.36089047e-05 1.31585157e-05 1.27072553e-05\n",
      " 1.20974955e-05 1.20280056e-05 1.07416281e-05 9.40664540e-06\n",
      " 8.33502509e-06 8.33309605e-06 7.11425719e-06 6.78980814e-06\n",
      " 6.53554889e-06 5.19611922e-06 5.09333358e-06 4.77258891e-06\n",
      " 4.72827833e-06 4.57662236e-06 4.53246867e-06 4.48388619e-06\n",
      " 4.35507172e-06 3.99732153e-06 3.90920013e-06 3.63136405e-06\n",
      " 3.62009450e-06 3.56094438e-06 3.17018157e-06 3.13641613e-06\n",
      " 2.96062808e-06 2.88279921e-06 2.73055775e-06 2.70017449e-06\n",
      " 2.65388326e-06 2.32767229e-06 2.15976070e-06 2.03068862e-06\n",
      " 2.00621275e-06 1.98717635e-06 1.89516481e-06 1.82492533e-06\n",
      " 1.71352860e-06 1.44063858e-06 1.23733321e-06 1.21395840e-06\n",
      " 1.19533308e-06 1.17042032e-06 1.12979001e-06 9.93928893e-07]\n",
      "[1 1 2 2 1 2 1 1 1 1 2 1 1 1 1 1 1 2 2 1 1 1 1 1 2 1 2 1 1 1 1 1 1 1 1 1 1\n",
      " 1 1 1 1 1 1 1 1 2 2 1 1 1 2 1 1 1 1 2 1 2 2 1 1 1 1 2 1 1 2 3 2 1 2 1 2 2\n",
      " 2 3 1 3 1 1 2 2 2 1 1 2 2 1 2 3 1 2 2 1 2 1 3 1 1 1 2 1 1 2 1 1 1 1 2 1 1\n",
      " 3 2 2 3 1 1 1 1 1 1 2 2 1 1 1 1 1 1 1 2 1 1 1 2 3 3 3 2 2 1 2 3 1 2 1 1 1\n",
      " 1 1 1 1 3 2 2 1 3 1 2 2 2 2 2 2 3 2 3 3 2 2 2 2 2 2 2 2 3 2 3 3 3 3 3 2 2\n",
      " 2 2 2 2 2 2 3 2 2 3 2 2 2 2 2 3 2 2 2 2 2 2 2 2 2 2 2 2 2 3 3 3 2 2 2 2 2\n",
      " 2 3 3 2 2 3 2 3 3 2 3 3 2 3 3 3 3 3 3 3 3 3 3 3 3 3 3 3 3 3 3 3 3 3 3 3 3\n",
      " 3 3 3 3 3 3 3 3 3 3 3 3 3 3 3 3 3 3 3 3 3 3 3 3 3 3 3 3 3 3 3 3 3 3 3 3 3\n",
      " 3 3 3 3]\n"
     ]
    }
   ],
   "source": [
    "print(img.shape)\n",
    "print(detection_boxes.shape)\n",
    "print(detection_scores)\n",
    "print(detection_classes)"
   ]
  },
  {
   "attachments": {},
   "cell_type": "markdown",
   "id": "0ccfab78",
   "metadata": {},
   "source": [
    "We can verify that the model worked correctly by displaying elements of the `images` list."
   ]
  },
  {
   "cell_type": "code",
   "execution_count": 11,
   "id": "b47b0a58",
   "metadata": {},
   "outputs": [
    {
     "name": "stderr",
     "output_type": "stream",
     "text": [
      "/tmp/ipykernel_21504/1556432050.py:5: UserWarning: Matplotlib is currently using agg, which is a non-GUI backend, so cannot show the figure.\n",
      "  plt.show()\n",
      "/tmp/ipykernel_21504/1556432050.py:12: UserWarning: Matplotlib is currently using agg, which is a non-GUI backend, so cannot show the figure.\n",
      "  plt.show()\n",
      "/tmp/ipykernel_21504/1556432050.py:19: UserWarning: Matplotlib is currently using agg, which is a non-GUI backend, so cannot show the figure.\n",
      "  plt.show()\n"
     ]
    }
   ],
   "source": [
    "plt.figure()\n",
    "plt.imshow(images_efficientdet[0])\n",
    "plt.title(\"EfficientDet\")\n",
    "plt.axis('off')  # Optionally hide axes\n",
    "plt.show()\n",
    "\n",
    "# Display the first image of faster_rcnn\n",
    "plt.figure()\n",
    "plt.imshow(images_faster_rcnn[0])\n",
    "plt.title(\"Faster R-CNN\")\n",
    "plt.axis('off')  # Optionally hide axes\n",
    "plt.show()\n",
    "\n",
    "# Display the first image of ssd_resnet\n",
    "plt.figure()\n",
    "plt.imshow(images_ssd_resnet[0])\n",
    "plt.title(\"SSD ResNet\")\n",
    "plt.axis('off')  # Optionally hide axes\n",
    "plt.show()"
   ]
  },
  {
   "attachments": {},
   "cell_type": "markdown",
   "id": "260a1ea0",
   "metadata": {},
   "source": [
    "Finally, we can create a video (`output.avi`) with our detections by running the following function."
   ]
  },
  {
   "cell_type": "code",
   "execution_count": 13,
   "id": "c31d836e",
   "metadata": {},
   "outputs": [],
   "source": [
    "frame_width = images_efficientdet[0].shape[0]\n",
    "frame_height = images_efficientdet[0].shape[1]\n",
    "\n",
    "out_efficientdet = cv2.VideoWriter('efficientdet.avi', cv2.VideoWriter_fourcc('M','J','P','G'), 10, (frame_width,frame_height))\n",
    "\n",
    "# Read and display the images\n",
    "for image in images_efficientdet:\n",
    "    image = cv2.cvtColor(image, cv2.COLOR_RGB2BGR)\n",
    "    out_efficientdet.write(image) # Write the image to the video\n",
    "    if cv2.waitKey(1) == ord('q'): # Hit `q` to exit\n",
    "        break\n",
    "        \n",
    "# Release everything if job is finished\n",
    "out_efficientdet.release()\n",
    "cv2.destroyAllWindows()"
   ]
  },
  {
   "attachments": {},
   "cell_type": "markdown",
   "id": "0b288094",
   "metadata": {},
   "source": [
    "The video would be stored in the current working directory. You can download it from Sagemaker and run it locally."
   ]
  },
  {
   "cell_type": "code",
   "execution_count": 17,
   "id": "41d86c14-d1da-48f6-aebf-2d219c9713d8",
   "metadata": {},
   "outputs": [],
   "source": [
    "frame_width = images_faster_rcnn[0].shape[0]\n",
    "frame_height = images_faster_rcnn[0].shape[1]\n",
    "\n",
    "out_faster_rcnn = cv2.VideoWriter('images_faster_rcnn.avi', cv2.VideoWriter_fourcc('M','J','P','G'), 10, (frame_width,frame_height))\n",
    "\n",
    "# Read and display the images\n",
    "for image in images_faster_rcnn:\n",
    "    image = cv2.cvtColor(image, cv2.COLOR_RGB2BGR)\n",
    "    out_faster_rcnn.write(image) # Write the image to the video\n",
    "    if cv2.waitKey(1) == ord('q'): # Hit `q` to exit\n",
    "        break\n",
    "        \n",
    "# Release everything if job is finished\n",
    "out_faster_rcnn.release()\n",
    "cv2.destroyAllWindows()"
   ]
  },
  {
   "cell_type": "code",
   "execution_count": 18,
   "id": "97e642fc-c78a-44c0-8b8e-ad3aadd2d646",
   "metadata": {},
   "outputs": [],
   "source": [
    "frame_width = images_ssd_resnet[0].shape[0]\n",
    "frame_height = images_ssd_resnet[0].shape[1]\n",
    "\n",
    "out_ssd_resnet = cv2.VideoWriter('ssd_resnet.avi', cv2.VideoWriter_fourcc('M','J','P','G'), 10, (frame_width,frame_height))\n",
    "\n",
    "# Read and display the images\n",
    "for image in images_ssd_resnet:\n",
    "    image = cv2.cvtColor(image, cv2.COLOR_RGB2BGR)\n",
    "    out_ssd_resnet.write(image) # Write the image to the video\n",
    "    if cv2.waitKey(1) == ord('q'): # Hit `q` to exit\n",
    "        break\n",
    "        \n",
    "# Release everything if job is finished\n",
    "out_ssd_resnet.release()\n",
    "cv2.destroyAllWindows()"
   ]
  },
  {
   "cell_type": "code",
   "execution_count": null,
   "id": "888b345f-63c9-4652-9f09-4b4e6b825986",
   "metadata": {},
   "outputs": [],
   "source": []
  }
 ],
 "metadata": {
  "kernelspec": {
   "display_name": "Python 3 (ipykernel)",
   "language": "python",
   "name": "python3"
  },
  "language_info": {
   "codemirror_mode": {
    "name": "ipython",
    "version": 3
   },
   "file_extension": ".py",
   "mimetype": "text/x-python",
   "name": "python",
   "nbconvert_exporter": "python",
   "pygments_lexer": "ipython3",
   "version": "3.8.10"
  },
  "vscode": {
   "interpreter": {
    "hash": "40d3a090f54c6569ab1632332b64b2c03c39dcf918b08424e98f38b5ae0af88f"
   }
  }
 },
 "nbformat": 4,
 "nbformat_minor": 5
}
